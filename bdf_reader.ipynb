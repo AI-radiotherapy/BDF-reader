{
 "cells": [
  {
   "cell_type": "code",
   "execution_count": 2,
   "metadata": {},
   "outputs": [
    {
     "name": "stdout",
     "output_type": "stream",
     "text": [
      "array size  402653208\n",
      "image_size [512, 512, 128]\n",
      "spacing [0.9699999690055847, 0.9699999690055847, 2.5]\n"
     ]
    }
   ],
   "source": [
    "import numpy as np\n",
    "import struct\n",
    "import SimpleITK as sitk\n",
    "\n",
    "# BDF file path\n",
    "filename = \"bdf.bdf\"\n",
    "\n",
    "# read BDF file\n",
    "with open(filename, \"rb\") as f:\n",
    "    data = f.read()\n",
    "\n",
    "size = len(data)\n",
    "\n",
    "image_size = []\n",
    "spacing = []\n",
    "\n",
    "# First 12 bytes define image sizes\n",
    "for i in range(0,12,4):\n",
    "    tmp = data[i:i+4]\n",
    "    number = struct.unpack('<I', tmp)\n",
    "    image_size.append(number[0])\n",
    "\n",
    "# 12 to 24 bytes define pixel spacing\n",
    "for i in range(12,24,4):\n",
    "    tmp = data[i:i+4]\n",
    "    number = struct.unpack('f', tmp)\n",
    "    spacing.append(number[0])\n",
    "\n",
    "print(\"array size \",size)\n",
    "print(\"image_size\", image_size)\n",
    "print(\"spacing\", spacing)\n",
    "\n",
    "# The size of array should be 24 bytes + number of pixel*4 bytes* 3 dimension of vector\n",
    "pixel_number = np.prod(image_size)\n",
    "print(f\"number of pixel = {pixel_number}\")\n",
    "assert pixel_number*4*3 + 24 == size\n",
    "\n",
    "# Get image information\n",
    "vector = []\n",
    "vec_arr = []\n",
    "count = 0\n",
    "\n",
    "for i in range(24,size,4):\n",
    "    tmp = data[i:i+4]\n",
    "    number = struct.unpack('f', tmp)\n",
    "    \n",
    "    vector.append(number)\n",
    "    count+=1\n",
    "    \n",
    "    if count ==3:\n",
    "        vec_arr.append(vector)\n",
    "        count = 0\n",
    "        vector = []\n",
    "\n",
    "# The number of pixel should equal length of vector\n",
    "assert len(vec_arr) == pixel_number\n",
    "\n",
    "# Create numpy image\n",
    "vec_arr = np.array(vec_arr)\n",
    "vec_arr = np.reshape(vec_arr, (*image_size[::-1], 3))"
   ]
  },
  {
   "cell_type": "code",
   "execution_count": 3,
   "metadata": {},
   "outputs": [],
   "source": [
    "\n",
    "# Create SITK image from numpy array\n",
    "def image_from_array(array, origin, spacing):\n",
    "    image = sitk.GetImageFromArray(array, isVector=True)\n",
    "    image.SetSpacing(spacing)\n",
    "    image.SetOrigin(origin)\n",
    "    return image"
   ]
  },
  {
   "cell_type": "code",
   "execution_count": 5,
   "metadata": {},
   "outputs": [],
   "source": [
    "image = image_from_array(vec_arr, (0,0,0),spacing  )\n",
    "sitk.WriteImage(image, \"image_test.nrrd\")\n",
    "\n",
    "transform = sitk.DisplacementFieldTransform(image)\n",
    "sitk.WriteTransform(transform, 'transform_test.tfm')"
   ]
  }
 ],
 "metadata": {
  "kernelspec": {
   "display_name": "Python 3",
   "language": "python",
   "name": "python3"
  },
  "language_info": {
   "codemirror_mode": {
    "name": "ipython",
    "version": 3
   },
   "file_extension": ".py",
   "mimetype": "text/x-python",
   "name": "python",
   "nbconvert_exporter": "python",
   "pygments_lexer": "ipython3",
   "version": "3.8.8"
  }
 },
 "nbformat": 4,
 "nbformat_minor": 4
}

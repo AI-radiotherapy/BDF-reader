{
 "cells": [
  {
   "cell_type": "code",
   "execution_count": 1,
   "metadata": {},
   "outputs": [
    {
     "name": "stdout",
     "output_type": "stream",
     "text": [
      "array size  402653208\n",
      "image_size [512, 512, 128]\n",
      "spacing [0.9699999690055847, 0.9699999690055847, 2.5]\n"
     ]
    }
   ],
   "source": [
    "import numpy as np\n",
    "import struct\n",
    "import SimpleITK as sitk\n",
    "\n",
    "filename = \"bdf.bdf\"\n",
    "\n",
    "with open(filename, \"rb\") as f:\n",
    "    data = f.read()\n",
    "\n",
    "size = len(data)\n",
    "\n",
    "image_size = []\n",
    "spacing = []\n",
    "\n",
    "for i in range(0,12,4):\n",
    "    tmp = data[i:i+4]\n",
    "    number = struct.unpack('<I', tmp)\n",
    "    image_size.append(number[0])\n",
    "\n",
    "for i in range(12,24,4):\n",
    "    tmp = data[i:i+4]\n",
    "    number = struct.unpack('f', tmp)\n",
    "    spacing.append(number[0])\n",
    "\n",
    "print(\"array size \",size)\n",
    "print(\"image_size\", image_size)\n",
    "print(\"spacing\", spacing)\n",
    "\n",
    "assert np.prod(image_size)*4*3 + 24 == size\n",
    "\n",
    "vector = []\n",
    "vec_arr = []\n",
    "count = 0\n",
    "\n",
    "for i in range(24,size,4):\n",
    "    tmp = data[i:i+4]\n",
    "\n",
    "\n",
    "    number = struct.unpack('f', tmp)\n",
    "    \n",
    "    vector.append(number)\n",
    "    count+=1\n",
    "    \n",
    "    if count ==3:\n",
    "        vec_arr.append(vector)\n",
    "        count = 0\n",
    "        vector = []\n",
    "        \n"
   ]
  },
  {
   "cell_type": "code",
   "execution_count": 2,
   "metadata": {},
   "outputs": [],
   "source": [
    "assert len(vec_arr) == np.prod(image_size)\n",
    "\n",
    "vec_arr = np.array(vec_arr)\n",
    "vec_arr = np.reshape(vec_arr, (*image_size[::-1], 3))"
   ]
  },
  {
   "cell_type": "code",
   "execution_count": 3,
   "metadata": {},
   "outputs": [],
   "source": [
    "\n",
    "\n",
    "def image_from_array(array, origin, spacing):\n",
    "    image = sitk.GetImageFromArray(array, isVector=True)\n",
    "    image.SetSpacing(spacing)\n",
    "    image.SetOrigin(origin)\n",
    "    return image"
   ]
  },
  {
   "cell_type": "code",
   "execution_count": 4,
   "metadata": {},
   "outputs": [],
   "source": [
    "image = image_from_array(vec_arr, (0,0,0),spacing  )"
   ]
  },
  {
   "cell_type": "code",
   "execution_count": 5,
   "metadata": {},
   "outputs": [],
   "source": [
    "sitk.WriteImage(image, \"image_test.nrrd\")\n",
    "\n",
    "transform = sitk.DisplacementFieldTransform(image)\n",
    "sitk.WriteTransform(transform, 'transform_test.tfm')"
   ]
  },
  {
   "cell_type": "code",
   "execution_count": null,
   "metadata": {},
   "outputs": [],
   "source": []
  }
 ],
 "metadata": {
  "kernelspec": {
   "display_name": "Python 3",
   "language": "python",
   "name": "python3"
  },
  "language_info": {
   "codemirror_mode": {
    "name": "ipython",
    "version": 3
   },
   "file_extension": ".py",
   "mimetype": "text/x-python",
   "name": "python",
   "nbconvert_exporter": "python",
   "pygments_lexer": "ipython3",
   "version": "3.8.5"
  }
 },
 "nbformat": 4,
 "nbformat_minor": 4
}
